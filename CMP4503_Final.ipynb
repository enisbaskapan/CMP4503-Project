{
 "cells": [
  {
   "cell_type": "code",
   "execution_count": 266,
   "metadata": {},
   "outputs": [],
   "source": [
    "import glob\n",
    "import os\n",
    "import pandas as pd\n",
    "import numpy as np\n",
    "import matplotlib.pyplot as plt\n",
    "\n",
    "from sklearn.ensemble import RandomForestClassifier, ExtraTreesClassifier, GradientBoostingClassifier\n",
    "from sklearn.preprocessing import StandardScaler\n",
    "from sklearn.preprocessing import KBinsDiscretizer\n",
    "from sklearn.feature_selection import chi2\n",
    "from sklearn.model_selection import train_test_split\n",
    "from sklearn.linear_model import LogisticRegression\n",
    "from sklearn.metrics import roc_curve, roc_auc_score, precision_score\n",
    "\n",
    "from xverse.transformer import WOE"
   ]
  },
  {
   "cell_type": "code",
   "execution_count": 142,
   "metadata": {},
   "outputs": [],
   "source": [
    "paths = [\n",
    "    (\"./Data/Dataset/bus\", \"bus\"),\n",
    "    (\"./Data/Dataset/car\", \"car\"),\n",
    "    (\"./Data/Dataset/pedestrian\", \"pedestrian\"),\n",
    "    (\"./Data/Dataset/static\", \"static\"),\n",
    "    (\"./Data/Dataset/train\", \"train\")\n",
    "]\n",
    "\n",
    "filenames = []\n",
    "for path, label in paths:\n",
    "    filenames.extend([(filename, label) for filename in glob.glob(os.path.join(path, \"*.csv\"))])\n",
    "\n",
    "Lis = []\n",
    "for filename, label in filenames:\n",
    "    df = pd.read_csv(filename, index_col=None, header=0)\n",
    "    df['path'] = label\n",
    "    Lis.append(df)\n",
    "\n",
    "LTE_data = pd.concat(Lis, axis=0, ignore_index=True)"
   ]
  },
  {
   "cell_type": "code",
   "execution_count": 143,
   "metadata": {},
   "outputs": [],
   "source": [
    "LTE_data = LTE_data[LTE_data['NetworkMode']=='LTE']"
   ]
  },
  {
   "cell_type": "code",
   "execution_count": 144,
   "metadata": {},
   "outputs": [],
   "source": [
    "LTE_data = LTE_data.drop(['Timestamp','CellID','Operatorname','NetworkMode','State','path'], axis=1)"
   ]
  },
  {
   "cell_type": "code",
   "execution_count": 145,
   "metadata": {},
   "outputs": [],
   "source": [
    "#Remove rows with non-existant values\n",
    "for column in LTE_data:\n",
    "    LTE_data = LTE_data[LTE_data[column] != '-']"
   ]
  },
  {
   "cell_type": "code",
   "execution_count": 146,
   "metadata": {},
   "outputs": [],
   "source": [
    "# Change object columns to numeric\n",
    "object_columns = LTE_data.select_dtypes('object')\n",
    "for column in object_columns:\n",
    "    LTE_data[column] = pd.to_numeric(LTE_data[column])"
   ]
  },
  {
   "cell_type": "code",
   "execution_count": 147,
   "metadata": {},
   "outputs": [],
   "source": [
    "# Change SNR to binary class\n",
    "LTE_data['SNR'] = (LTE_data['SNR'] > 0).astype(int)"
   ]
  },
  {
   "cell_type": "code",
   "execution_count": 148,
   "metadata": {},
   "outputs": [
    {
     "data": {
      "text/plain": [
       "SNR                     1.000000\n",
       "RSRQ                    0.628235\n",
       "CQI                     0.435776\n",
       "DL_bitrate              0.417344\n",
       "UL_bitrate              0.400552\n",
       "RSRP                    0.260780\n",
       "RSSI                    0.254445\n",
       "NRxRSRQ                 0.193194\n",
       "NRxRSRP                 0.160858\n",
       "Speed                   0.108441\n",
       "ServingCell_Lat         0.095299\n",
       "Latitude                0.088588\n",
       "ServingCell_Distance    0.011619\n",
       "ServingCell_Lon        -0.004435\n",
       "Longitude              -0.015127\n",
       "Name: SNR, dtype: float64"
      ]
     },
     "execution_count": 148,
     "metadata": {},
     "output_type": "execute_result"
    }
   ],
   "source": [
    "LTE_data.corr()['SNR'].sort_values(ascending=False)"
   ]
  },
  {
   "cell_type": "code",
   "execution_count": 337,
   "metadata": {},
   "outputs": [
    {
     "data": {
      "text/html": [
       "<div>\n",
       "<style scoped>\n",
       "    .dataframe tbody tr th:only-of-type {\n",
       "        vertical-align: middle;\n",
       "    }\n",
       "\n",
       "    .dataframe tbody tr th {\n",
       "        vertical-align: top;\n",
       "    }\n",
       "\n",
       "    .dataframe thead th {\n",
       "        text-align: right;\n",
       "    }\n",
       "</style>\n",
       "<table border=\"1\" class=\"dataframe\">\n",
       "  <thead>\n",
       "    <tr style=\"text-align: right;\">\n",
       "      <th></th>\n",
       "      <th>Longitude</th>\n",
       "      <th>Latitude</th>\n",
       "      <th>Speed</th>\n",
       "      <th>RSRP</th>\n",
       "      <th>RSRQ</th>\n",
       "      <th>SNR</th>\n",
       "      <th>CQI</th>\n",
       "      <th>RSSI</th>\n",
       "      <th>DL_bitrate</th>\n",
       "      <th>UL_bitrate</th>\n",
       "      <th>NRxRSRP</th>\n",
       "      <th>NRxRSRQ</th>\n",
       "      <th>ServingCell_Lon</th>\n",
       "      <th>ServingCell_Lat</th>\n",
       "      <th>ServingCell_Distance</th>\n",
       "    </tr>\n",
       "  </thead>\n",
       "  <tbody>\n",
       "    <tr>\n",
       "      <th>38</th>\n",
       "      <td>-8.501291</td>\n",
       "      <td>51.893462</td>\n",
       "      <td>1</td>\n",
       "      <td>-110</td>\n",
       "      <td>-15</td>\n",
       "      <td>0</td>\n",
       "      <td>7</td>\n",
       "      <td>-94</td>\n",
       "      <td>626</td>\n",
       "      <td>12</td>\n",
       "      <td>-118.0</td>\n",
       "      <td>-20.0</td>\n",
       "      <td>-8.491719</td>\n",
       "      <td>51.893905</td>\n",
       "      <td>658.68</td>\n",
       "    </tr>\n",
       "    <tr>\n",
       "      <th>39</th>\n",
       "      <td>-8.501291</td>\n",
       "      <td>51.893462</td>\n",
       "      <td>1</td>\n",
       "      <td>-110</td>\n",
       "      <td>-15</td>\n",
       "      <td>0</td>\n",
       "      <td>7</td>\n",
       "      <td>-94</td>\n",
       "      <td>693</td>\n",
       "      <td>13</td>\n",
       "      <td>-118.0</td>\n",
       "      <td>-20.0</td>\n",
       "      <td>-8.491719</td>\n",
       "      <td>51.893905</td>\n",
       "      <td>658.68</td>\n",
       "    </tr>\n",
       "    <tr>\n",
       "      <th>47</th>\n",
       "      <td>-8.502645</td>\n",
       "      <td>51.893069</td>\n",
       "      <td>16</td>\n",
       "      <td>-115</td>\n",
       "      <td>-15</td>\n",
       "      <td>0</td>\n",
       "      <td>6</td>\n",
       "      <td>-94</td>\n",
       "      <td>78</td>\n",
       "      <td>3</td>\n",
       "      <td>-118.0</td>\n",
       "      <td>-18.0</td>\n",
       "      <td>-8.491719</td>\n",
       "      <td>51.893905</td>\n",
       "      <td>755.50</td>\n",
       "    </tr>\n",
       "    <tr>\n",
       "      <th>48</th>\n",
       "      <td>-8.502645</td>\n",
       "      <td>51.893069</td>\n",
       "      <td>16</td>\n",
       "      <td>-115</td>\n",
       "      <td>-15</td>\n",
       "      <td>0</td>\n",
       "      <td>6</td>\n",
       "      <td>-94</td>\n",
       "      <td>246</td>\n",
       "      <td>12</td>\n",
       "      <td>-118.0</td>\n",
       "      <td>-18.0</td>\n",
       "      <td>-8.491719</td>\n",
       "      <td>51.893905</td>\n",
       "      <td>755.50</td>\n",
       "    </tr>\n",
       "    <tr>\n",
       "      <th>49</th>\n",
       "      <td>-8.502645</td>\n",
       "      <td>51.893069</td>\n",
       "      <td>16</td>\n",
       "      <td>-111</td>\n",
       "      <td>-15</td>\n",
       "      <td>0</td>\n",
       "      <td>7</td>\n",
       "      <td>-94</td>\n",
       "      <td>123</td>\n",
       "      <td>6</td>\n",
       "      <td>-118.0</td>\n",
       "      <td>-20.0</td>\n",
       "      <td>-8.491719</td>\n",
       "      <td>51.893905</td>\n",
       "      <td>755.50</td>\n",
       "    </tr>\n",
       "    <tr>\n",
       "      <th>...</th>\n",
       "      <td>...</td>\n",
       "      <td>...</td>\n",
       "      <td>...</td>\n",
       "      <td>...</td>\n",
       "      <td>...</td>\n",
       "      <td>...</td>\n",
       "      <td>...</td>\n",
       "      <td>...</td>\n",
       "      <td>...</td>\n",
       "      <td>...</td>\n",
       "      <td>...</td>\n",
       "      <td>...</td>\n",
       "      <td>...</td>\n",
       "      <td>...</td>\n",
       "      <td>...</td>\n",
       "    </tr>\n",
       "    <tr>\n",
       "      <th>174512</th>\n",
       "      <td>-8.490956</td>\n",
       "      <td>51.934883</td>\n",
       "      <td>74</td>\n",
       "      <td>-107</td>\n",
       "      <td>-13</td>\n",
       "      <td>1</td>\n",
       "      <td>7</td>\n",
       "      <td>-90</td>\n",
       "      <td>19728</td>\n",
       "      <td>361</td>\n",
       "      <td>-111.0</td>\n",
       "      <td>-16.0</td>\n",
       "      <td>-8.489758</td>\n",
       "      <td>51.928426</td>\n",
       "      <td>722.67</td>\n",
       "    </tr>\n",
       "    <tr>\n",
       "      <th>174513</th>\n",
       "      <td>-8.490956</td>\n",
       "      <td>51.934883</td>\n",
       "      <td>74</td>\n",
       "      <td>-106</td>\n",
       "      <td>-13</td>\n",
       "      <td>1</td>\n",
       "      <td>9</td>\n",
       "      <td>-88</td>\n",
       "      <td>28306</td>\n",
       "      <td>507</td>\n",
       "      <td>-109.0</td>\n",
       "      <td>-15.0</td>\n",
       "      <td>-8.489758</td>\n",
       "      <td>51.928426</td>\n",
       "      <td>722.67</td>\n",
       "    </tr>\n",
       "    <tr>\n",
       "      <th>174514</th>\n",
       "      <td>-8.490956</td>\n",
       "      <td>51.934883</td>\n",
       "      <td>74</td>\n",
       "      <td>-106</td>\n",
       "      <td>-13</td>\n",
       "      <td>1</td>\n",
       "      <td>9</td>\n",
       "      <td>-91</td>\n",
       "      <td>30700</td>\n",
       "      <td>547</td>\n",
       "      <td>-109.0</td>\n",
       "      <td>-15.0</td>\n",
       "      <td>-8.489758</td>\n",
       "      <td>51.928426</td>\n",
       "      <td>722.67</td>\n",
       "    </tr>\n",
       "    <tr>\n",
       "      <th>174517</th>\n",
       "      <td>-8.490956</td>\n",
       "      <td>51.934883</td>\n",
       "      <td>74</td>\n",
       "      <td>-102</td>\n",
       "      <td>-12</td>\n",
       "      <td>1</td>\n",
       "      <td>11</td>\n",
       "      <td>-85</td>\n",
       "      <td>38226</td>\n",
       "      <td>677</td>\n",
       "      <td>-109.0</td>\n",
       "      <td>-18.0</td>\n",
       "      <td>-8.489758</td>\n",
       "      <td>51.928426</td>\n",
       "      <td>722.67</td>\n",
       "    </tr>\n",
       "    <tr>\n",
       "      <th>174518</th>\n",
       "      <td>-8.490956</td>\n",
       "      <td>51.934883</td>\n",
       "      <td>74</td>\n",
       "      <td>-102</td>\n",
       "      <td>-12</td>\n",
       "      <td>1</td>\n",
       "      <td>11</td>\n",
       "      <td>-85</td>\n",
       "      <td>35453</td>\n",
       "      <td>646</td>\n",
       "      <td>-109.0</td>\n",
       "      <td>-18.0</td>\n",
       "      <td>-8.489758</td>\n",
       "      <td>51.928426</td>\n",
       "      <td>722.67</td>\n",
       "    </tr>\n",
       "  </tbody>\n",
       "</table>\n",
       "<p>56139 rows × 15 columns</p>\n",
       "</div>"
      ],
      "text/plain": [
       "        Longitude   Latitude  Speed  RSRP  RSRQ  SNR  CQI  RSSI  DL_bitrate  \\\n",
       "38      -8.501291  51.893462      1  -110   -15    0    7   -94         626   \n",
       "39      -8.501291  51.893462      1  -110   -15    0    7   -94         693   \n",
       "47      -8.502645  51.893069     16  -115   -15    0    6   -94          78   \n",
       "48      -8.502645  51.893069     16  -115   -15    0    6   -94         246   \n",
       "49      -8.502645  51.893069     16  -111   -15    0    7   -94         123   \n",
       "...           ...        ...    ...   ...   ...  ...  ...   ...         ...   \n",
       "174512  -8.490956  51.934883     74  -107   -13    1    7   -90       19728   \n",
       "174513  -8.490956  51.934883     74  -106   -13    1    9   -88       28306   \n",
       "174514  -8.490956  51.934883     74  -106   -13    1    9   -91       30700   \n",
       "174517  -8.490956  51.934883     74  -102   -12    1   11   -85       38226   \n",
       "174518  -8.490956  51.934883     74  -102   -12    1   11   -85       35453   \n",
       "\n",
       "        UL_bitrate  NRxRSRP  NRxRSRQ  ServingCell_Lon  ServingCell_Lat  \\\n",
       "38              12   -118.0    -20.0        -8.491719        51.893905   \n",
       "39              13   -118.0    -20.0        -8.491719        51.893905   \n",
       "47               3   -118.0    -18.0        -8.491719        51.893905   \n",
       "48              12   -118.0    -18.0        -8.491719        51.893905   \n",
       "49               6   -118.0    -20.0        -8.491719        51.893905   \n",
       "...            ...      ...      ...              ...              ...   \n",
       "174512         361   -111.0    -16.0        -8.489758        51.928426   \n",
       "174513         507   -109.0    -15.0        -8.489758        51.928426   \n",
       "174514         547   -109.0    -15.0        -8.489758        51.928426   \n",
       "174517         677   -109.0    -18.0        -8.489758        51.928426   \n",
       "174518         646   -109.0    -18.0        -8.489758        51.928426   \n",
       "\n",
       "        ServingCell_Distance  \n",
       "38                    658.68  \n",
       "39                    658.68  \n",
       "47                    755.50  \n",
       "48                    755.50  \n",
       "49                    755.50  \n",
       "...                      ...  \n",
       "174512                722.67  \n",
       "174513                722.67  \n",
       "174514                722.67  \n",
       "174517                722.67  \n",
       "174518                722.67  \n",
       "\n",
       "[56139 rows x 15 columns]"
      ]
     },
     "execution_count": 337,
     "metadata": {},
     "output_type": "execute_result"
    }
   ],
   "source": [
    "LTE_data"
   ]
  },
  {
   "cell_type": "code",
   "execution_count": 159,
   "metadata": {},
   "outputs": [
    {
     "data": {
      "text/html": [
       "<div>\n",
       "<style scoped>\n",
       "    .dataframe tbody tr th:only-of-type {\n",
       "        vertical-align: middle;\n",
       "    }\n",
       "\n",
       "    .dataframe tbody tr th {\n",
       "        vertical-align: top;\n",
       "    }\n",
       "\n",
       "    .dataframe thead th {\n",
       "        text-align: right;\n",
       "    }\n",
       "</style>\n",
       "<table border=\"1\" class=\"dataframe\">\n",
       "  <thead>\n",
       "    <tr style=\"text-align: right;\">\n",
       "      <th></th>\n",
       "      <th>Longitude</th>\n",
       "      <th>Latitude</th>\n",
       "      <th>Speed</th>\n",
       "      <th>RSRP</th>\n",
       "      <th>RSRQ</th>\n",
       "      <th>SNR</th>\n",
       "      <th>CQI</th>\n",
       "      <th>RSSI</th>\n",
       "      <th>DL_bitrate</th>\n",
       "      <th>UL_bitrate</th>\n",
       "      <th>NRxRSRP</th>\n",
       "      <th>NRxRSRQ</th>\n",
       "      <th>ServingCell_Lon</th>\n",
       "      <th>ServingCell_Lat</th>\n",
       "      <th>ServingCell_Distance</th>\n",
       "    </tr>\n",
       "  </thead>\n",
       "  <tbody>\n",
       "    <tr>\n",
       "      <th>Longitude</th>\n",
       "      <td>1.000000</td>\n",
       "      <td>0.464063</td>\n",
       "      <td>0.087420</td>\n",
       "      <td>-0.061757</td>\n",
       "      <td>0.074684</td>\n",
       "      <td>-0.015127</td>\n",
       "      <td>-0.120328</td>\n",
       "      <td>-0.073305</td>\n",
       "      <td>-0.113409</td>\n",
       "      <td>-0.102231</td>\n",
       "      <td>-0.027427</td>\n",
       "      <td>0.063466</td>\n",
       "      <td>0.737264</td>\n",
       "      <td>0.421533</td>\n",
       "      <td>-0.013050</td>\n",
       "    </tr>\n",
       "    <tr>\n",
       "      <th>Latitude</th>\n",
       "      <td>0.464063</td>\n",
       "      <td>1.000000</td>\n",
       "      <td>0.447006</td>\n",
       "      <td>-0.126857</td>\n",
       "      <td>0.183898</td>\n",
       "      <td>0.088588</td>\n",
       "      <td>-0.185479</td>\n",
       "      <td>-0.118529</td>\n",
       "      <td>-0.097043</td>\n",
       "      <td>-0.112455</td>\n",
       "      <td>-0.079111</td>\n",
       "      <td>0.150524</td>\n",
       "      <td>0.377033</td>\n",
       "      <td>0.936093</td>\n",
       "      <td>0.062712</td>\n",
       "    </tr>\n",
       "    <tr>\n",
       "      <th>Speed</th>\n",
       "      <td>0.087420</td>\n",
       "      <td>0.447006</td>\n",
       "      <td>1.000000</td>\n",
       "      <td>-0.174742</td>\n",
       "      <td>0.189092</td>\n",
       "      <td>0.108441</td>\n",
       "      <td>-0.101021</td>\n",
       "      <td>-0.183116</td>\n",
       "      <td>-0.036960</td>\n",
       "      <td>-0.005275</td>\n",
       "      <td>-0.104653</td>\n",
       "      <td>0.174693</td>\n",
       "      <td>0.046327</td>\n",
       "      <td>0.417506</td>\n",
       "      <td>0.085388</td>\n",
       "    </tr>\n",
       "    <tr>\n",
       "      <th>RSRP</th>\n",
       "      <td>-0.061757</td>\n",
       "      <td>-0.126857</td>\n",
       "      <td>-0.174742</td>\n",
       "      <td>1.000000</td>\n",
       "      <td>0.355649</td>\n",
       "      <td>0.260780</td>\n",
       "      <td>0.364966</td>\n",
       "      <td>0.955975</td>\n",
       "      <td>0.342202</td>\n",
       "      <td>0.314711</td>\n",
       "      <td>0.844031</td>\n",
       "      <td>0.115536</td>\n",
       "      <td>-0.060446</td>\n",
       "      <td>-0.122221</td>\n",
       "      <td>-0.009675</td>\n",
       "    </tr>\n",
       "    <tr>\n",
       "      <th>RSRQ</th>\n",
       "      <td>0.074684</td>\n",
       "      <td>0.183898</td>\n",
       "      <td>0.189092</td>\n",
       "      <td>0.355649</td>\n",
       "      <td>1.000000</td>\n",
       "      <td>0.628235</td>\n",
       "      <td>0.405325</td>\n",
       "      <td>0.310114</td>\n",
       "      <td>0.386972</td>\n",
       "      <td>0.376153</td>\n",
       "      <td>0.232626</td>\n",
       "      <td>0.317862</td>\n",
       "      <td>0.053056</td>\n",
       "      <td>0.175585</td>\n",
       "      <td>0.035717</td>\n",
       "    </tr>\n",
       "    <tr>\n",
       "      <th>SNR</th>\n",
       "      <td>-0.015127</td>\n",
       "      <td>0.088588</td>\n",
       "      <td>0.108441</td>\n",
       "      <td>0.260780</td>\n",
       "      <td>0.628235</td>\n",
       "      <td>1.000000</td>\n",
       "      <td>0.435776</td>\n",
       "      <td>0.254445</td>\n",
       "      <td>0.417344</td>\n",
       "      <td>0.400552</td>\n",
       "      <td>0.160858</td>\n",
       "      <td>0.193194</td>\n",
       "      <td>-0.004435</td>\n",
       "      <td>0.095299</td>\n",
       "      <td>0.011619</td>\n",
       "    </tr>\n",
       "    <tr>\n",
       "      <th>CQI</th>\n",
       "      <td>-0.120328</td>\n",
       "      <td>-0.185479</td>\n",
       "      <td>-0.101021</td>\n",
       "      <td>0.364966</td>\n",
       "      <td>0.405325</td>\n",
       "      <td>0.435776</td>\n",
       "      <td>1.000000</td>\n",
       "      <td>0.392934</td>\n",
       "      <td>0.495474</td>\n",
       "      <td>0.475472</td>\n",
       "      <td>0.244604</td>\n",
       "      <td>0.126383</td>\n",
       "      <td>-0.119356</td>\n",
       "      <td>-0.183453</td>\n",
       "      <td>0.002069</td>\n",
       "    </tr>\n",
       "    <tr>\n",
       "      <th>RSSI</th>\n",
       "      <td>-0.073305</td>\n",
       "      <td>-0.118529</td>\n",
       "      <td>-0.183116</td>\n",
       "      <td>0.955975</td>\n",
       "      <td>0.310114</td>\n",
       "      <td>0.254445</td>\n",
       "      <td>0.392934</td>\n",
       "      <td>1.000000</td>\n",
       "      <td>0.332673</td>\n",
       "      <td>0.300304</td>\n",
       "      <td>0.814868</td>\n",
       "      <td>0.091670</td>\n",
       "      <td>-0.057879</td>\n",
       "      <td>-0.115173</td>\n",
       "      <td>-0.024117</td>\n",
       "    </tr>\n",
       "    <tr>\n",
       "      <th>DL_bitrate</th>\n",
       "      <td>-0.113409</td>\n",
       "      <td>-0.097043</td>\n",
       "      <td>-0.036960</td>\n",
       "      <td>0.342202</td>\n",
       "      <td>0.386972</td>\n",
       "      <td>0.417344</td>\n",
       "      <td>0.495474</td>\n",
       "      <td>0.332673</td>\n",
       "      <td>1.000000</td>\n",
       "      <td>0.919676</td>\n",
       "      <td>0.271320</td>\n",
       "      <td>0.259175</td>\n",
       "      <td>-0.090382</td>\n",
       "      <td>-0.096052</td>\n",
       "      <td>-0.000052</td>\n",
       "    </tr>\n",
       "    <tr>\n",
       "      <th>UL_bitrate</th>\n",
       "      <td>-0.102231</td>\n",
       "      <td>-0.112455</td>\n",
       "      <td>-0.005275</td>\n",
       "      <td>0.314711</td>\n",
       "      <td>0.376153</td>\n",
       "      <td>0.400552</td>\n",
       "      <td>0.475472</td>\n",
       "      <td>0.300304</td>\n",
       "      <td>0.919676</td>\n",
       "      <td>1.000000</td>\n",
       "      <td>0.249702</td>\n",
       "      <td>0.235694</td>\n",
       "      <td>-0.079740</td>\n",
       "      <td>-0.111253</td>\n",
       "      <td>-0.005631</td>\n",
       "    </tr>\n",
       "    <tr>\n",
       "      <th>NRxRSRP</th>\n",
       "      <td>-0.027427</td>\n",
       "      <td>-0.079111</td>\n",
       "      <td>-0.104653</td>\n",
       "      <td>0.844031</td>\n",
       "      <td>0.232626</td>\n",
       "      <td>0.160858</td>\n",
       "      <td>0.244604</td>\n",
       "      <td>0.814868</td>\n",
       "      <td>0.271320</td>\n",
       "      <td>0.249702</td>\n",
       "      <td>1.000000</td>\n",
       "      <td>0.258121</td>\n",
       "      <td>-0.029168</td>\n",
       "      <td>-0.076194</td>\n",
       "      <td>-0.013939</td>\n",
       "    </tr>\n",
       "    <tr>\n",
       "      <th>NRxRSRQ</th>\n",
       "      <td>0.063466</td>\n",
       "      <td>0.150524</td>\n",
       "      <td>0.174693</td>\n",
       "      <td>0.115536</td>\n",
       "      <td>0.317862</td>\n",
       "      <td>0.193194</td>\n",
       "      <td>0.126383</td>\n",
       "      <td>0.091670</td>\n",
       "      <td>0.259175</td>\n",
       "      <td>0.235694</td>\n",
       "      <td>0.258121</td>\n",
       "      <td>1.000000</td>\n",
       "      <td>0.055021</td>\n",
       "      <td>0.142939</td>\n",
       "      <td>0.013797</td>\n",
       "    </tr>\n",
       "    <tr>\n",
       "      <th>ServingCell_Lon</th>\n",
       "      <td>0.737264</td>\n",
       "      <td>0.377033</td>\n",
       "      <td>0.046327</td>\n",
       "      <td>-0.060446</td>\n",
       "      <td>0.053056</td>\n",
       "      <td>-0.004435</td>\n",
       "      <td>-0.119356</td>\n",
       "      <td>-0.057879</td>\n",
       "      <td>-0.090382</td>\n",
       "      <td>-0.079740</td>\n",
       "      <td>-0.029168</td>\n",
       "      <td>0.055021</td>\n",
       "      <td>1.000000</td>\n",
       "      <td>0.415160</td>\n",
       "      <td>-0.556763</td>\n",
       "    </tr>\n",
       "    <tr>\n",
       "      <th>ServingCell_Lat</th>\n",
       "      <td>0.421533</td>\n",
       "      <td>0.936093</td>\n",
       "      <td>0.417506</td>\n",
       "      <td>-0.122221</td>\n",
       "      <td>0.175585</td>\n",
       "      <td>0.095299</td>\n",
       "      <td>-0.183453</td>\n",
       "      <td>-0.115173</td>\n",
       "      <td>-0.096052</td>\n",
       "      <td>-0.111253</td>\n",
       "      <td>-0.076194</td>\n",
       "      <td>0.142939</td>\n",
       "      <td>0.415160</td>\n",
       "      <td>1.000000</td>\n",
       "      <td>0.081987</td>\n",
       "    </tr>\n",
       "    <tr>\n",
       "      <th>ServingCell_Distance</th>\n",
       "      <td>-0.013050</td>\n",
       "      <td>0.062712</td>\n",
       "      <td>0.085388</td>\n",
       "      <td>-0.009675</td>\n",
       "      <td>0.035717</td>\n",
       "      <td>0.011619</td>\n",
       "      <td>0.002069</td>\n",
       "      <td>-0.024117</td>\n",
       "      <td>-0.000052</td>\n",
       "      <td>-0.005631</td>\n",
       "      <td>-0.013939</td>\n",
       "      <td>0.013797</td>\n",
       "      <td>-0.556763</td>\n",
       "      <td>0.081987</td>\n",
       "      <td>1.000000</td>\n",
       "    </tr>\n",
       "  </tbody>\n",
       "</table>\n",
       "</div>"
      ],
      "text/plain": [
       "                      Longitude  Latitude     Speed      RSRP      RSRQ  \\\n",
       "Longitude              1.000000  0.464063  0.087420 -0.061757  0.074684   \n",
       "Latitude               0.464063  1.000000  0.447006 -0.126857  0.183898   \n",
       "Speed                  0.087420  0.447006  1.000000 -0.174742  0.189092   \n",
       "RSRP                  -0.061757 -0.126857 -0.174742  1.000000  0.355649   \n",
       "RSRQ                   0.074684  0.183898  0.189092  0.355649  1.000000   \n",
       "SNR                   -0.015127  0.088588  0.108441  0.260780  0.628235   \n",
       "CQI                   -0.120328 -0.185479 -0.101021  0.364966  0.405325   \n",
       "RSSI                  -0.073305 -0.118529 -0.183116  0.955975  0.310114   \n",
       "DL_bitrate            -0.113409 -0.097043 -0.036960  0.342202  0.386972   \n",
       "UL_bitrate            -0.102231 -0.112455 -0.005275  0.314711  0.376153   \n",
       "NRxRSRP               -0.027427 -0.079111 -0.104653  0.844031  0.232626   \n",
       "NRxRSRQ                0.063466  0.150524  0.174693  0.115536  0.317862   \n",
       "ServingCell_Lon        0.737264  0.377033  0.046327 -0.060446  0.053056   \n",
       "ServingCell_Lat        0.421533  0.936093  0.417506 -0.122221  0.175585   \n",
       "ServingCell_Distance  -0.013050  0.062712  0.085388 -0.009675  0.035717   \n",
       "\n",
       "                           SNR       CQI      RSSI  DL_bitrate  UL_bitrate  \\\n",
       "Longitude            -0.015127 -0.120328 -0.073305   -0.113409   -0.102231   \n",
       "Latitude              0.088588 -0.185479 -0.118529   -0.097043   -0.112455   \n",
       "Speed                 0.108441 -0.101021 -0.183116   -0.036960   -0.005275   \n",
       "RSRP                  0.260780  0.364966  0.955975    0.342202    0.314711   \n",
       "RSRQ                  0.628235  0.405325  0.310114    0.386972    0.376153   \n",
       "SNR                   1.000000  0.435776  0.254445    0.417344    0.400552   \n",
       "CQI                   0.435776  1.000000  0.392934    0.495474    0.475472   \n",
       "RSSI                  0.254445  0.392934  1.000000    0.332673    0.300304   \n",
       "DL_bitrate            0.417344  0.495474  0.332673    1.000000    0.919676   \n",
       "UL_bitrate            0.400552  0.475472  0.300304    0.919676    1.000000   \n",
       "NRxRSRP               0.160858  0.244604  0.814868    0.271320    0.249702   \n",
       "NRxRSRQ               0.193194  0.126383  0.091670    0.259175    0.235694   \n",
       "ServingCell_Lon      -0.004435 -0.119356 -0.057879   -0.090382   -0.079740   \n",
       "ServingCell_Lat       0.095299 -0.183453 -0.115173   -0.096052   -0.111253   \n",
       "ServingCell_Distance  0.011619  0.002069 -0.024117   -0.000052   -0.005631   \n",
       "\n",
       "                       NRxRSRP   NRxRSRQ  ServingCell_Lon  ServingCell_Lat  \\\n",
       "Longitude            -0.027427  0.063466         0.737264         0.421533   \n",
       "Latitude             -0.079111  0.150524         0.377033         0.936093   \n",
       "Speed                -0.104653  0.174693         0.046327         0.417506   \n",
       "RSRP                  0.844031  0.115536        -0.060446        -0.122221   \n",
       "RSRQ                  0.232626  0.317862         0.053056         0.175585   \n",
       "SNR                   0.160858  0.193194        -0.004435         0.095299   \n",
       "CQI                   0.244604  0.126383        -0.119356        -0.183453   \n",
       "RSSI                  0.814868  0.091670        -0.057879        -0.115173   \n",
       "DL_bitrate            0.271320  0.259175        -0.090382        -0.096052   \n",
       "UL_bitrate            0.249702  0.235694        -0.079740        -0.111253   \n",
       "NRxRSRP               1.000000  0.258121        -0.029168        -0.076194   \n",
       "NRxRSRQ               0.258121  1.000000         0.055021         0.142939   \n",
       "ServingCell_Lon      -0.029168  0.055021         1.000000         0.415160   \n",
       "ServingCell_Lat      -0.076194  0.142939         0.415160         1.000000   \n",
       "ServingCell_Distance -0.013939  0.013797        -0.556763         0.081987   \n",
       "\n",
       "                      ServingCell_Distance  \n",
       "Longitude                        -0.013050  \n",
       "Latitude                          0.062712  \n",
       "Speed                             0.085388  \n",
       "RSRP                             -0.009675  \n",
       "RSRQ                              0.035717  \n",
       "SNR                               0.011619  \n",
       "CQI                               0.002069  \n",
       "RSSI                             -0.024117  \n",
       "DL_bitrate                       -0.000052  \n",
       "UL_bitrate                       -0.005631  \n",
       "NRxRSRP                          -0.013939  \n",
       "NRxRSRQ                           0.013797  \n",
       "ServingCell_Lon                  -0.556763  \n",
       "ServingCell_Lat                   0.081987  \n",
       "ServingCell_Distance              1.000000  "
      ]
     },
     "execution_count": 159,
     "metadata": {},
     "output_type": "execute_result"
    }
   ],
   "source": [
    "LTE_data.corr()"
   ]
  },
  {
   "cell_type": "markdown",
   "metadata": {},
   "source": [
    "# WORKFLOW AND TESTBED VALIDATION"
   ]
  },
  {
   "cell_type": "code",
   "execution_count": 150,
   "metadata": {},
   "outputs": [],
   "source": [
    "X = LTE_data.drop('SNR', axis=1)\n",
    "y = LTE_data.SNR"
   ]
  },
  {
   "cell_type": "code",
   "execution_count": 151,
   "metadata": {},
   "outputs": [],
   "source": [
    "kbd = KBinsDiscretizer(n_bins=3)"
   ]
  },
  {
   "cell_type": "code",
   "execution_count": 152,
   "metadata": {},
   "outputs": [],
   "source": [
    "X_bin = kbd.fit_transform(X)"
   ]
  },
  {
   "cell_type": "code",
   "execution_count": 153,
   "metadata": {},
   "outputs": [],
   "source": [
    "feature_names = kbd.get_feature_names_out()"
   ]
  },
  {
   "cell_type": "markdown",
   "metadata": {},
   "source": [
    "## Information Value"
   ]
  },
  {
   "cell_type": "code",
   "execution_count": 154,
   "metadata": {},
   "outputs": [
    {
     "data": {
      "text/html": [
       "<style>#sk-container-id-5 {color: black;background-color: white;}#sk-container-id-5 pre{padding: 0;}#sk-container-id-5 div.sk-toggleable {background-color: white;}#sk-container-id-5 label.sk-toggleable__label {cursor: pointer;display: block;width: 100%;margin-bottom: 0;padding: 0.3em;box-sizing: border-box;text-align: center;}#sk-container-id-5 label.sk-toggleable__label-arrow:before {content: \"▸\";float: left;margin-right: 0.25em;color: #696969;}#sk-container-id-5 label.sk-toggleable__label-arrow:hover:before {color: black;}#sk-container-id-5 div.sk-estimator:hover label.sk-toggleable__label-arrow:before {color: black;}#sk-container-id-5 div.sk-toggleable__content {max-height: 0;max-width: 0;overflow: hidden;text-align: left;background-color: #f0f8ff;}#sk-container-id-5 div.sk-toggleable__content pre {margin: 0.2em;color: black;border-radius: 0.25em;background-color: #f0f8ff;}#sk-container-id-5 input.sk-toggleable__control:checked~div.sk-toggleable__content {max-height: 200px;max-width: 100%;overflow: auto;}#sk-container-id-5 input.sk-toggleable__control:checked~label.sk-toggleable__label-arrow:before {content: \"▾\";}#sk-container-id-5 div.sk-estimator input.sk-toggleable__control:checked~label.sk-toggleable__label {background-color: #d4ebff;}#sk-container-id-5 div.sk-label input.sk-toggleable__control:checked~label.sk-toggleable__label {background-color: #d4ebff;}#sk-container-id-5 input.sk-hidden--visually {border: 0;clip: rect(1px 1px 1px 1px);clip: rect(1px, 1px, 1px, 1px);height: 1px;margin: -1px;overflow: hidden;padding: 0;position: absolute;width: 1px;}#sk-container-id-5 div.sk-estimator {font-family: monospace;background-color: #f0f8ff;border: 1px dotted black;border-radius: 0.25em;box-sizing: border-box;margin-bottom: 0.5em;}#sk-container-id-5 div.sk-estimator:hover {background-color: #d4ebff;}#sk-container-id-5 div.sk-parallel-item::after {content: \"\";width: 100%;border-bottom: 1px solid gray;flex-grow: 1;}#sk-container-id-5 div.sk-label:hover label.sk-toggleable__label {background-color: #d4ebff;}#sk-container-id-5 div.sk-serial::before {content: \"\";position: absolute;border-left: 1px solid gray;box-sizing: border-box;top: 0;bottom: 0;left: 50%;z-index: 0;}#sk-container-id-5 div.sk-serial {display: flex;flex-direction: column;align-items: center;background-color: white;padding-right: 0.2em;padding-left: 0.2em;position: relative;}#sk-container-id-5 div.sk-item {position: relative;z-index: 1;}#sk-container-id-5 div.sk-parallel {display: flex;align-items: stretch;justify-content: center;background-color: white;position: relative;}#sk-container-id-5 div.sk-item::before, #sk-container-id-5 div.sk-parallel-item::before {content: \"\";position: absolute;border-left: 1px solid gray;box-sizing: border-box;top: 0;bottom: 0;left: 50%;z-index: -1;}#sk-container-id-5 div.sk-parallel-item {display: flex;flex-direction: column;z-index: 1;position: relative;background-color: white;}#sk-container-id-5 div.sk-parallel-item:first-child::after {align-self: flex-end;width: 50%;}#sk-container-id-5 div.sk-parallel-item:last-child::after {align-self: flex-start;width: 50%;}#sk-container-id-5 div.sk-parallel-item:only-child::after {width: 0;}#sk-container-id-5 div.sk-dashed-wrapped {border: 1px dashed gray;margin: 0 0.4em 0.5em 0.4em;box-sizing: border-box;padding-bottom: 0.4em;background-color: white;}#sk-container-id-5 div.sk-label label {font-family: monospace;font-weight: bold;display: inline-block;line-height: 1.2em;}#sk-container-id-5 div.sk-label-container {text-align: center;}#sk-container-id-5 div.sk-container {/* jupyter's `normalize.less` sets `[hidden] { display: none; }` but bootstrap.min.css set `[hidden] { display: none !important; }` so we also need the `!important` here to be able to override the default hidden behavior on the sphinx rendered scikit-learn.org. See: https://github.com/scikit-learn/scikit-learn/issues/21755 */display: inline-block !important;position: relative;}#sk-container-id-5 div.sk-text-repr-fallback {display: none;}</style><div id=\"sk-container-id-5\" class=\"sk-top-container\"><div class=\"sk-text-repr-fallback\"><pre>WOE(mono_custom_binning={&#x27;CQI&#x27;: array([ 1.,  6.,  8., 15.]),\n",
       "                         &#x27;DL_bitrate&#x27;: array([     0.,   3355.,  12839., 133906.]),\n",
       "                         &#x27;Latitude&#x27;: array([51.871394, 51.893853, 51.900334, 53.346003]),\n",
       "                         &#x27;Longitude&#x27;: array([-9.578864, -8.49995 , -8.479341, -6.297736]),\n",
       "                         &#x27;NRxRSRP&#x27;: array([-138., -106.,  -98.,    0.]),\n",
       "                         &#x27;NRxRSRQ&#x27;: array([-225.,  -17.,  -15.,   -2.]),\n",
       "                         &#x27;RSRP&#x27;: array([-138., -105.,  -96.,  -27.]),\n",
       "                         &#x27;RSRQ&#x27;: array([-...\n",
       "              &#x27;Speed&#x27;: {Interval(-0.001, 1.0, closed=&#x27;right&#x27;): -0.18068722922871122,\n",
       "                        Interval(1.0, 22.0, closed=&#x27;right&#x27;): -0.050746811080046667,\n",
       "                        Interval(22.0, 162.0, closed=&#x27;right&#x27;): 0.2389575156471268},\n",
       "              &#x27;UL_bitrate&#x27;: {Interval(-0.001, 71.0, closed=&#x27;right&#x27;): -0.8761168581363892,\n",
       "                             Interval(71.0, 230.0, closed=&#x27;right&#x27;): -0.25796894824739774,\n",
       "                             Interval(230.0, 1975.0, closed=&#x27;right&#x27;): 1.3865471774892013}})</pre><b>In a Jupyter environment, please rerun this cell to show the HTML representation or trust the notebook. <br />On GitHub, the HTML representation is unable to render, please try loading this page with nbviewer.org.</b></div><div class=\"sk-container\" hidden><div class=\"sk-item\"><div class=\"sk-estimator sk-toggleable\"><input class=\"sk-toggleable__control sk-hidden--visually\" id=\"sk-estimator-id-5\" type=\"checkbox\" checked><label for=\"sk-estimator-id-5\" class=\"sk-toggleable__label sk-toggleable__label-arrow\">WOE</label><div class=\"sk-toggleable__content\"><pre>WOE(mono_custom_binning={&#x27;CQI&#x27;: array([ 1.,  6.,  8., 15.]),\n",
       "                         &#x27;DL_bitrate&#x27;: array([     0.,   3355.,  12839., 133906.]),\n",
       "                         &#x27;Latitude&#x27;: array([51.871394, 51.893853, 51.900334, 53.346003]),\n",
       "                         &#x27;Longitude&#x27;: array([-9.578864, -8.49995 , -8.479341, -6.297736]),\n",
       "                         &#x27;NRxRSRP&#x27;: array([-138., -106.,  -98.,    0.]),\n",
       "                         &#x27;NRxRSRQ&#x27;: array([-225.,  -17.,  -15.,   -2.]),\n",
       "                         &#x27;RSRP&#x27;: array([-138., -105.,  -96.,  -27.]),\n",
       "                         &#x27;RSRQ&#x27;: array([-...\n",
       "              &#x27;Speed&#x27;: {Interval(-0.001, 1.0, closed=&#x27;right&#x27;): -0.18068722922871122,\n",
       "                        Interval(1.0, 22.0, closed=&#x27;right&#x27;): -0.050746811080046667,\n",
       "                        Interval(22.0, 162.0, closed=&#x27;right&#x27;): 0.2389575156471268},\n",
       "              &#x27;UL_bitrate&#x27;: {Interval(-0.001, 71.0, closed=&#x27;right&#x27;): -0.8761168581363892,\n",
       "                             Interval(71.0, 230.0, closed=&#x27;right&#x27;): -0.25796894824739774,\n",
       "                             Interval(230.0, 1975.0, closed=&#x27;right&#x27;): 1.3865471774892013}})</pre></div></div></div></div></div>"
      ],
      "text/plain": [
       "WOE(mono_custom_binning={'CQI': array([ 1.,  6.,  8., 15.]),\n",
       "                         'DL_bitrate': array([     0.,   3355.,  12839., 133906.]),\n",
       "                         'Latitude': array([51.871394, 51.893853, 51.900334, 53.346003]),\n",
       "                         'Longitude': array([-9.578864, -8.49995 , -8.479341, -6.297736]),\n",
       "                         'NRxRSRP': array([-138., -106.,  -98.,    0.]),\n",
       "                         'NRxRSRQ': array([-225.,  -17.,  -15.,   -2.]),\n",
       "                         'RSRP': array([-138., -105.,  -96.,  -27.]),\n",
       "                         'RSRQ': array([-...\n",
       "              'Speed': {Interval(-0.001, 1.0, closed='right'): -0.18068722922871122,\n",
       "                        Interval(1.0, 22.0, closed='right'): -0.050746811080046667,\n",
       "                        Interval(22.0, 162.0, closed='right'): 0.2389575156471268},\n",
       "              'UL_bitrate': {Interval(-0.001, 71.0, closed='right'): -0.8761168581363892,\n",
       "                             Interval(71.0, 230.0, closed='right'): -0.25796894824739774,\n",
       "                             Interval(230.0, 1975.0, closed='right'): 1.3865471774892013}})"
      ]
     },
     "execution_count": 154,
     "metadata": {},
     "output_type": "execute_result"
    }
   ],
   "source": [
    "woe = WOE()\n",
    "woe.fit(X, y)"
   ]
  },
  {
   "cell_type": "code",
   "execution_count": 156,
   "metadata": {},
   "outputs": [
    {
     "data": {
      "text/html": [
       "<div>\n",
       "<style scoped>\n",
       "    .dataframe tbody tr th:only-of-type {\n",
       "        vertical-align: middle;\n",
       "    }\n",
       "\n",
       "    .dataframe tbody tr th {\n",
       "        vertical-align: top;\n",
       "    }\n",
       "\n",
       "    .dataframe thead th {\n",
       "        text-align: right;\n",
       "    }\n",
       "</style>\n",
       "<table border=\"1\" class=\"dataframe\">\n",
       "  <thead>\n",
       "    <tr style=\"text-align: right;\">\n",
       "      <th></th>\n",
       "      <th>Variable_Name</th>\n",
       "      <th>Information_Value</th>\n",
       "    </tr>\n",
       "  </thead>\n",
       "  <tbody>\n",
       "    <tr>\n",
       "      <th>7</th>\n",
       "      <td>RSRQ</td>\n",
       "      <td>2.173743</td>\n",
       "    </tr>\n",
       "    <tr>\n",
       "      <th>0</th>\n",
       "      <td>CQI</td>\n",
       "      <td>1.020042</td>\n",
       "    </tr>\n",
       "    <tr>\n",
       "      <th>1</th>\n",
       "      <td>DL_bitrate</td>\n",
       "      <td>0.898327</td>\n",
       "    </tr>\n",
       "    <tr>\n",
       "      <th>13</th>\n",
       "      <td>UL_bitrate</td>\n",
       "      <td>0.795514</td>\n",
       "    </tr>\n",
       "    <tr>\n",
       "      <th>10</th>\n",
       "      <td>ServingCell_Lat</td>\n",
       "      <td>0.262379</td>\n",
       "    </tr>\n",
       "    <tr>\n",
       "      <th>6</th>\n",
       "      <td>RSRP</td>\n",
       "      <td>0.238163</td>\n",
       "    </tr>\n",
       "    <tr>\n",
       "      <th>8</th>\n",
       "      <td>RSSI</td>\n",
       "      <td>0.228593</td>\n",
       "    </tr>\n",
       "    <tr>\n",
       "      <th>5</th>\n",
       "      <td>NRxRSRQ</td>\n",
       "      <td>0.226659</td>\n",
       "    </tr>\n",
       "    <tr>\n",
       "      <th>2</th>\n",
       "      <td>Latitude</td>\n",
       "      <td>0.136674</td>\n",
       "    </tr>\n",
       "    <tr>\n",
       "      <th>4</th>\n",
       "      <td>NRxRSRP</td>\n",
       "      <td>0.097054</td>\n",
       "    </tr>\n",
       "    <tr>\n",
       "      <th>11</th>\n",
       "      <td>ServingCell_Lon</td>\n",
       "      <td>0.050007</td>\n",
       "    </tr>\n",
       "    <tr>\n",
       "      <th>3</th>\n",
       "      <td>Longitude</td>\n",
       "      <td>0.048142</td>\n",
       "    </tr>\n",
       "    <tr>\n",
       "      <th>12</th>\n",
       "      <td>Speed</td>\n",
       "      <td>0.030408</td>\n",
       "    </tr>\n",
       "    <tr>\n",
       "      <th>9</th>\n",
       "      <td>ServingCell_Distance</td>\n",
       "      <td>0.009246</td>\n",
       "    </tr>\n",
       "  </tbody>\n",
       "</table>\n",
       "</div>"
      ],
      "text/plain": [
       "           Variable_Name  Information_Value\n",
       "7                   RSRQ           2.173743\n",
       "0                    CQI           1.020042\n",
       "1             DL_bitrate           0.898327\n",
       "13            UL_bitrate           0.795514\n",
       "10       ServingCell_Lat           0.262379\n",
       "6                   RSRP           0.238163\n",
       "8                   RSSI           0.228593\n",
       "5                NRxRSRQ           0.226659\n",
       "2               Latitude           0.136674\n",
       "4                NRxRSRP           0.097054\n",
       "11       ServingCell_Lon           0.050007\n",
       "3              Longitude           0.048142\n",
       "12                 Speed           0.030408\n",
       "9   ServingCell_Distance           0.009246"
      ]
     },
     "execution_count": 156,
     "metadata": {},
     "output_type": "execute_result"
    }
   ],
   "source": [
    "woe.iv_df"
   ]
  },
  {
   "cell_type": "markdown",
   "metadata": {},
   "source": [
    "## Random Forest Classifier"
   ]
  },
  {
   "cell_type": "code",
   "execution_count": 62,
   "metadata": {},
   "outputs": [],
   "source": [
    "rf = RandomForestClassifier()"
   ]
  },
  {
   "cell_type": "code",
   "execution_count": 63,
   "metadata": {},
   "outputs": [
    {
     "data": {
      "text/html": [
       "<style>#sk-container-id-2 {color: black;background-color: white;}#sk-container-id-2 pre{padding: 0;}#sk-container-id-2 div.sk-toggleable {background-color: white;}#sk-container-id-2 label.sk-toggleable__label {cursor: pointer;display: block;width: 100%;margin-bottom: 0;padding: 0.3em;box-sizing: border-box;text-align: center;}#sk-container-id-2 label.sk-toggleable__label-arrow:before {content: \"▸\";float: left;margin-right: 0.25em;color: #696969;}#sk-container-id-2 label.sk-toggleable__label-arrow:hover:before {color: black;}#sk-container-id-2 div.sk-estimator:hover label.sk-toggleable__label-arrow:before {color: black;}#sk-container-id-2 div.sk-toggleable__content {max-height: 0;max-width: 0;overflow: hidden;text-align: left;background-color: #f0f8ff;}#sk-container-id-2 div.sk-toggleable__content pre {margin: 0.2em;color: black;border-radius: 0.25em;background-color: #f0f8ff;}#sk-container-id-2 input.sk-toggleable__control:checked~div.sk-toggleable__content {max-height: 200px;max-width: 100%;overflow: auto;}#sk-container-id-2 input.sk-toggleable__control:checked~label.sk-toggleable__label-arrow:before {content: \"▾\";}#sk-container-id-2 div.sk-estimator input.sk-toggleable__control:checked~label.sk-toggleable__label {background-color: #d4ebff;}#sk-container-id-2 div.sk-label input.sk-toggleable__control:checked~label.sk-toggleable__label {background-color: #d4ebff;}#sk-container-id-2 input.sk-hidden--visually {border: 0;clip: rect(1px 1px 1px 1px);clip: rect(1px, 1px, 1px, 1px);height: 1px;margin: -1px;overflow: hidden;padding: 0;position: absolute;width: 1px;}#sk-container-id-2 div.sk-estimator {font-family: monospace;background-color: #f0f8ff;border: 1px dotted black;border-radius: 0.25em;box-sizing: border-box;margin-bottom: 0.5em;}#sk-container-id-2 div.sk-estimator:hover {background-color: #d4ebff;}#sk-container-id-2 div.sk-parallel-item::after {content: \"\";width: 100%;border-bottom: 1px solid gray;flex-grow: 1;}#sk-container-id-2 div.sk-label:hover label.sk-toggleable__label {background-color: #d4ebff;}#sk-container-id-2 div.sk-serial::before {content: \"\";position: absolute;border-left: 1px solid gray;box-sizing: border-box;top: 0;bottom: 0;left: 50%;z-index: 0;}#sk-container-id-2 div.sk-serial {display: flex;flex-direction: column;align-items: center;background-color: white;padding-right: 0.2em;padding-left: 0.2em;position: relative;}#sk-container-id-2 div.sk-item {position: relative;z-index: 1;}#sk-container-id-2 div.sk-parallel {display: flex;align-items: stretch;justify-content: center;background-color: white;position: relative;}#sk-container-id-2 div.sk-item::before, #sk-container-id-2 div.sk-parallel-item::before {content: \"\";position: absolute;border-left: 1px solid gray;box-sizing: border-box;top: 0;bottom: 0;left: 50%;z-index: -1;}#sk-container-id-2 div.sk-parallel-item {display: flex;flex-direction: column;z-index: 1;position: relative;background-color: white;}#sk-container-id-2 div.sk-parallel-item:first-child::after {align-self: flex-end;width: 50%;}#sk-container-id-2 div.sk-parallel-item:last-child::after {align-self: flex-start;width: 50%;}#sk-container-id-2 div.sk-parallel-item:only-child::after {width: 0;}#sk-container-id-2 div.sk-dashed-wrapped {border: 1px dashed gray;margin: 0 0.4em 0.5em 0.4em;box-sizing: border-box;padding-bottom: 0.4em;background-color: white;}#sk-container-id-2 div.sk-label label {font-family: monospace;font-weight: bold;display: inline-block;line-height: 1.2em;}#sk-container-id-2 div.sk-label-container {text-align: center;}#sk-container-id-2 div.sk-container {/* jupyter's `normalize.less` sets `[hidden] { display: none; }` but bootstrap.min.css set `[hidden] { display: none !important; }` so we also need the `!important` here to be able to override the default hidden behavior on the sphinx rendered scikit-learn.org. See: https://github.com/scikit-learn/scikit-learn/issues/21755 */display: inline-block !important;position: relative;}#sk-container-id-2 div.sk-text-repr-fallback {display: none;}</style><div id=\"sk-container-id-2\" class=\"sk-top-container\"><div class=\"sk-text-repr-fallback\"><pre>RandomForestClassifier()</pre><b>In a Jupyter environment, please rerun this cell to show the HTML representation or trust the notebook. <br />On GitHub, the HTML representation is unable to render, please try loading this page with nbviewer.org.</b></div><div class=\"sk-container\" hidden><div class=\"sk-item\"><div class=\"sk-estimator sk-toggleable\"><input class=\"sk-toggleable__control sk-hidden--visually\" id=\"sk-estimator-id-2\" type=\"checkbox\" checked><label for=\"sk-estimator-id-2\" class=\"sk-toggleable__label sk-toggleable__label-arrow\">RandomForestClassifier</label><div class=\"sk-toggleable__content\"><pre>RandomForestClassifier()</pre></div></div></div></div></div>"
      ],
      "text/plain": [
       "RandomForestClassifier()"
      ]
     },
     "execution_count": 63,
     "metadata": {},
     "output_type": "execute_result"
    }
   ],
   "source": [
    "rf.fit(X_bin, y)"
   ]
  },
  {
   "cell_type": "code",
   "execution_count": 78,
   "metadata": {},
   "outputs": [],
   "source": [
    "importances = rf.feature_importances_"
   ]
  },
  {
   "cell_type": "code",
   "execution_count": 79,
   "metadata": {},
   "outputs": [],
   "source": [
    "aggregated_importances = []\n",
    "for i in range(14):\n",
    "    start_idx = i * 3\n",
    "    end_idx = (i + 1) * 3\n",
    "    feature_importances = importances[start_idx:end_idx]\n",
    "    aggregated_importance = sum(feature_importances)\n",
    "    aggregated_importances.append(aggregated_importance)"
   ]
  },
  {
   "cell_type": "code",
   "execution_count": 81,
   "metadata": {},
   "outputs": [],
   "source": [
    "feature_importances = dict(zip(X.columns, aggregated_importances))"
   ]
  },
  {
   "cell_type": "code",
   "execution_count": 82,
   "metadata": {},
   "outputs": [],
   "source": [
    "sorted_importances = sorted(feature_importances.items(), key=lambda x: x[1], reverse=True)"
   ]
  },
  {
   "cell_type": "code",
   "execution_count": 83,
   "metadata": {},
   "outputs": [
    {
     "data": {
      "text/plain": [
       "[('RSRQ', 0.4124380389158808),\n",
       " ('CQI', 0.11020268457784173),\n",
       " ('DL_bitrate', 0.06134317031370724),\n",
       " ('UL_bitrate', 0.05244847543949249),\n",
       " ('NRxRSRQ', 0.0486655057618691),\n",
       " ('ServingCell_Lat', 0.04260235372757872),\n",
       " ('ServingCell_Distance', 0.041983705332478374),\n",
       " ('Speed', 0.04000467380455183),\n",
       " ('NRxRSRP', 0.03565827484418305),\n",
       " ('Latitude', 0.03198292942118844),\n",
       " ('RSRP', 0.031387510852332566),\n",
       " ('Longitude', 0.030888897974529414),\n",
       " ('RSSI', 0.03032065301652522),\n",
       " ('ServingCell_Lon', 0.030073126017840998)]"
      ]
     },
     "execution_count": 83,
     "metadata": {},
     "output_type": "execute_result"
    }
   ],
   "source": [
    "sorted_importances"
   ]
  },
  {
   "cell_type": "markdown",
   "metadata": {},
   "source": [
    "## ExtrTrees Classifier"
   ]
  },
  {
   "cell_type": "code",
   "execution_count": 30,
   "metadata": {},
   "outputs": [],
   "source": [
    "etc = ExtraTreesClassifier()"
   ]
  },
  {
   "cell_type": "code",
   "execution_count": 31,
   "metadata": {},
   "outputs": [
    {
     "data": {
      "text/html": [
       "<style>#sk-container-id-2 {color: black;background-color: white;}#sk-container-id-2 pre{padding: 0;}#sk-container-id-2 div.sk-toggleable {background-color: white;}#sk-container-id-2 label.sk-toggleable__label {cursor: pointer;display: block;width: 100%;margin-bottom: 0;padding: 0.3em;box-sizing: border-box;text-align: center;}#sk-container-id-2 label.sk-toggleable__label-arrow:before {content: \"▸\";float: left;margin-right: 0.25em;color: #696969;}#sk-container-id-2 label.sk-toggleable__label-arrow:hover:before {color: black;}#sk-container-id-2 div.sk-estimator:hover label.sk-toggleable__label-arrow:before {color: black;}#sk-container-id-2 div.sk-toggleable__content {max-height: 0;max-width: 0;overflow: hidden;text-align: left;background-color: #f0f8ff;}#sk-container-id-2 div.sk-toggleable__content pre {margin: 0.2em;color: black;border-radius: 0.25em;background-color: #f0f8ff;}#sk-container-id-2 input.sk-toggleable__control:checked~div.sk-toggleable__content {max-height: 200px;max-width: 100%;overflow: auto;}#sk-container-id-2 input.sk-toggleable__control:checked~label.sk-toggleable__label-arrow:before {content: \"▾\";}#sk-container-id-2 div.sk-estimator input.sk-toggleable__control:checked~label.sk-toggleable__label {background-color: #d4ebff;}#sk-container-id-2 div.sk-label input.sk-toggleable__control:checked~label.sk-toggleable__label {background-color: #d4ebff;}#sk-container-id-2 input.sk-hidden--visually {border: 0;clip: rect(1px 1px 1px 1px);clip: rect(1px, 1px, 1px, 1px);height: 1px;margin: -1px;overflow: hidden;padding: 0;position: absolute;width: 1px;}#sk-container-id-2 div.sk-estimator {font-family: monospace;background-color: #f0f8ff;border: 1px dotted black;border-radius: 0.25em;box-sizing: border-box;margin-bottom: 0.5em;}#sk-container-id-2 div.sk-estimator:hover {background-color: #d4ebff;}#sk-container-id-2 div.sk-parallel-item::after {content: \"\";width: 100%;border-bottom: 1px solid gray;flex-grow: 1;}#sk-container-id-2 div.sk-label:hover label.sk-toggleable__label {background-color: #d4ebff;}#sk-container-id-2 div.sk-serial::before {content: \"\";position: absolute;border-left: 1px solid gray;box-sizing: border-box;top: 0;bottom: 0;left: 50%;z-index: 0;}#sk-container-id-2 div.sk-serial {display: flex;flex-direction: column;align-items: center;background-color: white;padding-right: 0.2em;padding-left: 0.2em;position: relative;}#sk-container-id-2 div.sk-item {position: relative;z-index: 1;}#sk-container-id-2 div.sk-parallel {display: flex;align-items: stretch;justify-content: center;background-color: white;position: relative;}#sk-container-id-2 div.sk-item::before, #sk-container-id-2 div.sk-parallel-item::before {content: \"\";position: absolute;border-left: 1px solid gray;box-sizing: border-box;top: 0;bottom: 0;left: 50%;z-index: -1;}#sk-container-id-2 div.sk-parallel-item {display: flex;flex-direction: column;z-index: 1;position: relative;background-color: white;}#sk-container-id-2 div.sk-parallel-item:first-child::after {align-self: flex-end;width: 50%;}#sk-container-id-2 div.sk-parallel-item:last-child::after {align-self: flex-start;width: 50%;}#sk-container-id-2 div.sk-parallel-item:only-child::after {width: 0;}#sk-container-id-2 div.sk-dashed-wrapped {border: 1px dashed gray;margin: 0 0.4em 0.5em 0.4em;box-sizing: border-box;padding-bottom: 0.4em;background-color: white;}#sk-container-id-2 div.sk-label label {font-family: monospace;font-weight: bold;display: inline-block;line-height: 1.2em;}#sk-container-id-2 div.sk-label-container {text-align: center;}#sk-container-id-2 div.sk-container {/* jupyter's `normalize.less` sets `[hidden] { display: none; }` but bootstrap.min.css set `[hidden] { display: none !important; }` so we also need the `!important` here to be able to override the default hidden behavior on the sphinx rendered scikit-learn.org. See: https://github.com/scikit-learn/scikit-learn/issues/21755 */display: inline-block !important;position: relative;}#sk-container-id-2 div.sk-text-repr-fallback {display: none;}</style><div id=\"sk-container-id-2\" class=\"sk-top-container\"><div class=\"sk-text-repr-fallback\"><pre>ExtraTreesClassifier()</pre><b>In a Jupyter environment, please rerun this cell to show the HTML representation or trust the notebook. <br />On GitHub, the HTML representation is unable to render, please try loading this page with nbviewer.org.</b></div><div class=\"sk-container\" hidden><div class=\"sk-item\"><div class=\"sk-estimator sk-toggleable\"><input class=\"sk-toggleable__control sk-hidden--visually\" id=\"sk-estimator-id-2\" type=\"checkbox\" checked><label for=\"sk-estimator-id-2\" class=\"sk-toggleable__label sk-toggleable__label-arrow\">ExtraTreesClassifier</label><div class=\"sk-toggleable__content\"><pre>ExtraTreesClassifier()</pre></div></div></div></div></div>"
      ],
      "text/plain": [
       "ExtraTreesClassifier()"
      ]
     },
     "execution_count": 31,
     "metadata": {},
     "output_type": "execute_result"
    }
   ],
   "source": [
    "etc.fit(X_bin, y)"
   ]
  },
  {
   "cell_type": "code",
   "execution_count": 32,
   "metadata": {},
   "outputs": [],
   "source": [
    "importances = etc.feature_importances_"
   ]
  },
  {
   "cell_type": "code",
   "execution_count": 33,
   "metadata": {},
   "outputs": [],
   "source": [
    "aggregated_importances = []\n",
    "for i in range(14):\n",
    "    start_idx = i * 3\n",
    "    end_idx = (i + 1) * 3\n",
    "    feature_importances = importances[start_idx:end_idx]\n",
    "    aggregated_importance = sum(feature_importances)\n",
    "    aggregated_importances.append(aggregated_importance)"
   ]
  },
  {
   "cell_type": "code",
   "execution_count": 34,
   "metadata": {},
   "outputs": [],
   "source": [
    "feature_importances = dict(zip(X.columns, aggregated_importances))"
   ]
  },
  {
   "cell_type": "code",
   "execution_count": 35,
   "metadata": {},
   "outputs": [],
   "source": [
    "sorted_importances = sorted(feature_importances.items(), key=lambda x: x[1], reverse=True)"
   ]
  },
  {
   "cell_type": "code",
   "execution_count": 36,
   "metadata": {},
   "outputs": [
    {
     "data": {
      "text/plain": [
       "[('RSRQ', 0.407126071396297),\n",
       " ('CQI', 0.09588379830260443),\n",
       " ('DL_bitrate', 0.07109674959349996),\n",
       " ('UL_bitrate', 0.06357905398803171),\n",
       " ('NRxRSRQ', 0.0472492550653123),\n",
       " ('ServingCell_Lat', 0.0434599132292315),\n",
       " ('ServingCell_Distance', 0.040834228962253964),\n",
       " ('Speed', 0.039388989808293785),\n",
       " ('NRxRSRP', 0.035665305442145766),\n",
       " ('Latitude', 0.032893660445980216),\n",
       " ('RSRP', 0.031481752990553606),\n",
       " ('RSSI', 0.031187656465445437),\n",
       " ('Longitude', 0.030956611175880628),\n",
       " ('ServingCell_Lon', 0.029196953134469565)]"
      ]
     },
     "execution_count": 36,
     "metadata": {},
     "output_type": "execute_result"
    }
   ],
   "source": [
    "sorted_importances"
   ]
  },
  {
   "cell_type": "markdown",
   "metadata": {},
   "source": [
    "## Chi Square"
   ]
  },
  {
   "cell_type": "code",
   "execution_count": 52,
   "metadata": {},
   "outputs": [],
   "source": [
    "chi2, p_values = chi2(X_bin, y)"
   ]
  },
  {
   "cell_type": "code",
   "execution_count": 53,
   "metadata": {},
   "outputs": [
    {
     "data": {
      "text/plain": [
       "array([1.61393697e-01, 3.52387429e+02, 3.69472057e+02, 6.58338622e+02,\n",
       "       5.71289927e+01, 1.08366494e+03, 1.21432847e+02, 3.05071706e+01,\n",
       "       2.65830991e+02, 1.16593061e+03, 1.10754477e+02, 1.82265568e+03,\n",
       "       1.58405929e+04, 2.52391368e+02, 1.16793785e+04, 5.84028546e+03,\n",
       "       2.89032790e+02, 5.75444083e+03, 1.05758918e+03, 1.31242873e+02,\n",
       "       1.76921531e+03, 3.60432168e+03, 4.53865097e+02, 6.61475766e+03,\n",
       "       3.40371664e+03, 3.47474856e+02, 5.89381853e+03, 3.93902557e+02,\n",
       "       7.44862022e+01, 7.18798212e+02, 2.47136326e+02, 6.61921283e+02,\n",
       "       1.22729465e+03, 2.32838643e+02, 4.55525281e+01, 4.60174393e+02,\n",
       "       1.17055035e+02, 1.24232596e+03, 2.21672005e+03, 5.76689966e+01,\n",
       "       7.46977945e+01, 1.08389849e+00])"
      ]
     },
     "execution_count": 53,
     "metadata": {},
     "output_type": "execute_result"
    }
   ],
   "source": [
    "chi2"
   ]
  },
  {
   "cell_type": "code",
   "execution_count": 58,
   "metadata": {},
   "outputs": [],
   "source": [
    "aggregated_importances = []\n",
    "for i in range(14):\n",
    "    start_idx = i * 3\n",
    "    end_idx = (i + 1) * 3\n",
    "    feature_importances = chi2[start_idx:end_idx]\n",
    "    aggregated_importance = sum(feature_importances)\n",
    "    aggregated_importances.append(aggregated_importance)"
   ]
  },
  {
   "cell_type": "code",
   "execution_count": 59,
   "metadata": {},
   "outputs": [],
   "source": [
    "feature_importances = dict(zip(X.columns, aggregated_importances))"
   ]
  },
  {
   "cell_type": "code",
   "execution_count": 60,
   "metadata": {},
   "outputs": [],
   "source": [
    "sorted_importances = sorted(feature_importances.items(), key=lambda x: x[1], reverse=True)"
   ]
  },
  {
   "cell_type": "code",
   "execution_count": 61,
   "metadata": {},
   "outputs": [
    {
     "data": {
      "text/plain": [
       "[('RSRQ', 27772.36273742924),\n",
       " ('CQI', 11883.759078101695),\n",
       " ('DL_bitrate', 10672.944441318672),\n",
       " ('UL_bitrate', 9645.010027324846),\n",
       " ('ServingCell_Lat', 3576.101049864452),\n",
       " ('RSRP', 3099.3407731647994),\n",
       " ('RSSI', 2958.0473655495034),\n",
       " ('NRxRSRQ', 2136.352253923779),\n",
       " ('Latitude', 1799.1325590909892),\n",
       " ('NRxRSRP', 1187.1869710845845),\n",
       " ('ServingCell_Lon', 738.565564387803),\n",
       " ('Longitude', 722.020879705191),\n",
       " ('Speed', 417.77100775047273),\n",
       " ('ServingCell_Distance', 133.45068968371893)]"
      ]
     },
     "execution_count": 61,
     "metadata": {},
     "output_type": "execute_result"
    }
   ],
   "source": [
    "sorted_importances"
   ]
  },
  {
   "cell_type": "markdown",
   "metadata": {},
   "source": [
    "## Variance Inflation Factor"
   ]
  },
  {
   "cell_type": "code",
   "execution_count": 62,
   "metadata": {},
   "outputs": [],
   "source": [
    "from statsmodels.stats.outliers_influence import variance_inflation_factor"
   ]
  },
  {
   "cell_type": "code",
   "execution_count": 73,
   "metadata": {},
   "outputs": [
    {
     "data": {
      "text/plain": [
       "ServingCell_Lat         1.365329e+06\n",
       "Latitude                1.361166e+06\n",
       "Longitude               9.414867e+03\n",
       "ServingCell_Lon         7.640630e+03\n",
       "RSRP                    1.053337e+03\n",
       "RSSI                    7.363153e+02\n",
       "NRxRSRP                 3.326392e+02\n",
       "RSRQ                    6.308721e+01\n",
       "NRxRSRQ                 3.009360e+01\n",
       "CQI                     1.435741e+01\n",
       "UL_bitrate              1.319430e+01\n",
       "DL_bitrate              1.241206e+01\n",
       "ServingCell_Distance    4.872704e+00\n",
       "SNR                     4.099198e+00\n",
       "Speed                   1.761435e+00\n",
       "dtype: float64"
      ]
     },
     "execution_count": 73,
     "metadata": {},
     "output_type": "execute_result"
    }
   ],
   "source": [
    "pd.Series([variance_inflation_factor(LTE_data.values, i) \n",
    "               for i in range(LTE_data.shape[1])], \n",
    "              index=LTE_data.columns).sort_values(ascending=False)"
   ]
  },
  {
   "cell_type": "markdown",
   "metadata": {},
   "source": [
    "# ROC Curve Analysis"
   ]
  },
  {
   "cell_type": "code",
   "execution_count": 172,
   "metadata": {},
   "outputs": [],
   "source": [
    "X = LTE_data[['RSRQ', 'CQI', 'DL_bitrate', 'UL_bitrate']]\n",
    "y = LTE_data['SNR']"
   ]
  },
  {
   "cell_type": "code",
   "execution_count": 173,
   "metadata": {},
   "outputs": [],
   "source": [
    "kbd = KBinsDiscretizer(n_bins=3)\n",
    "X_bin = kbd.fit_transform(X)"
   ]
  },
  {
   "cell_type": "code",
   "execution_count": 174,
   "metadata": {},
   "outputs": [],
   "source": [
    "X_train, X_test, y_train, y_test = train_test_split(X_bin, y, test_size=0.4)"
   ]
  },
  {
   "cell_type": "markdown",
   "metadata": {},
   "source": [
    "## Random Forest Classifier"
   ]
  },
  {
   "cell_type": "code",
   "execution_count": 260,
   "metadata": {},
   "outputs": [],
   "source": [
    "rf = RandomForestClassifier().fit(X_train, y_train)"
   ]
  },
  {
   "cell_type": "code",
   "execution_count": 261,
   "metadata": {},
   "outputs": [],
   "source": [
    "preds = rf.predict_proba(X_train)[:, 1]"
   ]
  },
  {
   "cell_type": "code",
   "execution_count": 262,
   "metadata": {},
   "outputs": [],
   "source": [
    "fpr, tpr, thresholds = roc_curve(y_train, preds, pos_label=1)"
   ]
  },
  {
   "cell_type": "code",
   "execution_count": 263,
   "metadata": {},
   "outputs": [
    {
     "data": {
      "image/png": "[encoded data removed]",
      "text/plain": [
       "<Figure size 640x480 with 1 Axes>"
      ]
     },
     "metadata": {},
     "output_type": "display_data"
    }
   ],
   "source": [
    "plt.title('ROC for Random Forest Algorithm')\n",
    "plt.plot(fpr, tpr, 'c')\n",
    "plt.plot([0, 1], [0, 1],'b--')\n",
    "plt.xlim([0, 1])\n",
    "plt.ylim([0, 1])\n",
    "plt.ylabel('TPR')\n",
    "plt.xlabel('FPR')\n",
    "plt.show()"
   ]
  },
  {
   "cell_type": "markdown",
   "metadata": {},
   "source": [
    "## Logistic Regression"
   ]
  },
  {
   "cell_type": "code",
   "execution_count": 253,
   "metadata": {},
   "outputs": [],
   "source": [
    "lr = LogisticRegression().fit(X_train, y_train)"
   ]
  },
  {
   "cell_type": "code",
   "execution_count": 254,
   "metadata": {},
   "outputs": [],
   "source": [
    "preds = lr.predict_proba(X_train)[:, 1]"
   ]
  },
  {
   "cell_type": "code",
   "execution_count": 255,
   "metadata": {},
   "outputs": [],
   "source": [
    "fpr, tpr, thresholds = roc_curve(y_train, preds, pos_label=1)"
   ]
  },
  {
   "cell_type": "code",
   "execution_count": 256,
   "metadata": {},
   "outputs": [
    {
     "data": {
      "image/png": "[encoded data removed]",
      "text/plain": [
       "<Figure size 640x480 with 1 Axes>"
      ]
     },
     "metadata": {},
     "output_type": "display_data"
    }
   ],
   "source": [
    "plt.title('ROC for Logistic Regression Algorithm')\n",
    "plt.plot(fpr, tpr, 'c')\n",
    "plt.plot([0, 1], [0, 1],'b--')\n",
    "plt.xlim([0, 1])\n",
    "plt.ylim([0, 1])\n",
    "plt.ylabel('TPR')\n",
    "plt.xlabel('FPR')\n",
    "plt.show()"
   ]
  },
  {
   "cell_type": "markdown",
   "metadata": {},
   "source": [
    "## Gradient Boosting "
   ]
  },
  {
   "cell_type": "code",
   "execution_count": 226,
   "metadata": {},
   "outputs": [],
   "source": [
    "gbc = GradientBoostingClassifier().fit(X_train, y_train)"
   ]
  },
  {
   "cell_type": "code",
   "execution_count": 233,
   "metadata": {},
   "outputs": [],
   "source": [
    "preds = gbc.predict_proba(X_train)[:, 1]"
   ]
  },
  {
   "cell_type": "code",
   "execution_count": 234,
   "metadata": {},
   "outputs": [],
   "source": [
    "fpr, tpr, thresholds = roc_curve(y_train, preds, pos_label=1)"
   ]
  },
  {
   "cell_type": "code",
   "execution_count": 235,
   "metadata": {},
   "outputs": [
    {
     "data": {
      "image/png": "[encoded data removed]",
      "text/plain": [
       "<Figure size 640x480 with 1 Axes>"
      ]
     },
     "metadata": {},
     "output_type": "display_data"
    }
   ],
   "source": [
    "plt.title('ROC for Gradient Boosting Algorithm')\n",
    "plt.plot(fpr, tpr, 'c')\n",
    "plt.plot([0, 1], [0, 1],'b--')\n",
    "plt.xlim([0, 1])\n",
    "plt.ylim([0, 1])\n",
    "plt.ylabel('TPR')\n",
    "plt.xlabel('FPR')\n",
    "plt.show()"
   ]
  },
  {
   "cell_type": "markdown",
   "metadata": {},
   "source": [
    "# Precision and AUC"
   ]
  },
  {
   "cell_type": "markdown",
   "metadata": {},
   "source": [
    "## Random Forest"
   ]
  },
  {
   "cell_type": "code",
   "execution_count": 312,
   "metadata": {},
   "outputs": [],
   "source": [
    "rf = RandomForestClassifier().fit(X_train, y_train)"
   ]
  },
  {
   "cell_type": "code",
   "execution_count": 313,
   "metadata": {},
   "outputs": [],
   "source": [
    "preds = rf.predict(X_train)"
   ]
  },
  {
   "cell_type": "code",
   "execution_count": 314,
   "metadata": {},
   "outputs": [],
   "source": [
    "auc = roc_auc_score(y_train, preds)"
   ]
  },
  {
   "cell_type": "code",
   "execution_count": 315,
   "metadata": {},
   "outputs": [],
   "source": [
    "p = precision_score(y_train, preds)"
   ]
  },
  {
   "cell_type": "code",
   "execution_count": 316,
   "metadata": {},
   "outputs": [],
   "source": [
    "rf_p_trd = \"%.2f\" % (p * 100) + \" %\""
   ]
  },
  {
   "cell_type": "code",
   "execution_count": 317,
   "metadata": {},
   "outputs": [],
   "source": [
    "rf_auc_trd = \"%.2f\" % (auc * 100) + \" %\""
   ]
  },
  {
   "cell_type": "code",
   "execution_count": 318,
   "metadata": {},
   "outputs": [],
   "source": [
    "preds = rf.predict(X_test)\n",
    "auc = roc_auc_score(y_test, preds)\n",
    "p = precision_score(y_test, preds)"
   ]
  },
  {
   "cell_type": "code",
   "execution_count": 319,
   "metadata": {},
   "outputs": [],
   "source": [
    "rf_p_ted = \"%.2f\" % (p * 100) + \" %\"\n",
    "rf_auc_ted = \"%.2f\" % (auc * 100) + \" %\""
   ]
  },
  {
   "cell_type": "markdown",
   "metadata": {},
   "source": [
    "## Logistic Regression"
   ]
  },
  {
   "cell_type": "code",
   "execution_count": 325,
   "metadata": {},
   "outputs": [],
   "source": [
    "lr = LogisticRegression().fit(X_train, y_train)"
   ]
  },
  {
   "cell_type": "code",
   "execution_count": 326,
   "metadata": {},
   "outputs": [],
   "source": [
    "preds = lr.predict(X_train)\n",
    "auc = roc_auc_score(y_train, preds)\n",
    "p = precision_score(y_train, preds)"
   ]
  },
  {
   "cell_type": "code",
   "execution_count": 327,
   "metadata": {},
   "outputs": [],
   "source": [
    "lr_p_trd = \"%.2f\" % (p * 100) + \" %\"\n",
    "lr_auc_trd = \"%.2f\" % (auc * 100) + \" %\""
   ]
  },
  {
   "cell_type": "code",
   "execution_count": 328,
   "metadata": {},
   "outputs": [],
   "source": [
    "preds = lr.predict(X_test)\n",
    "auc = roc_auc_score(y_test, preds)\n",
    "p = precision_score(y_test, preds)"
   ]
  },
  {
   "cell_type": "code",
   "execution_count": 329,
   "metadata": {},
   "outputs": [],
   "source": [
    "lr_p_ted = \"%.2f\" % (p * 100) + \" %\"\n",
    "lr_auc_ted = \"%.2f\" % (auc * 100) + \" %\""
   ]
  },
  {
   "cell_type": "markdown",
   "metadata": {},
   "source": [
    "## Gradient Boosting"
   ]
  },
  {
   "cell_type": "code",
   "execution_count": 330,
   "metadata": {},
   "outputs": [],
   "source": [
    "gb = GradientBoostingClassifier().fit(X_train, y_train)"
   ]
  },
  {
   "cell_type": "code",
   "execution_count": 331,
   "metadata": {},
   "outputs": [],
   "source": [
    "preds = gb.predict(X_train)\n",
    "auc = roc_auc_score(y_train, preds)\n",
    "p = precision_score(y_train, preds)"
   ]
  },
  {
   "cell_type": "code",
   "execution_count": 332,
   "metadata": {},
   "outputs": [],
   "source": [
    "gb_p_trd = \"%.2f\" % (p * 100) + \" %\"\n",
    "gb_auc_trd = \"%.2f\" % (auc * 100) + \" %\""
   ]
  },
  {
   "cell_type": "code",
   "execution_count": 333,
   "metadata": {},
   "outputs": [],
   "source": [
    "preds = gb.predict(X_test)\n",
    "auc = roc_auc_score(y_test, preds)\n",
    "p = precision_score(y_test, preds)"
   ]
  },
  {
   "cell_type": "code",
   "execution_count": 334,
   "metadata": {},
   "outputs": [],
   "source": [
    "gb_p_ted = \"%.2f\" % (p * 100) + \" %\"\n",
    "gb_auc_ted = \"%.2f\" % (auc * 100) + \" %\""
   ]
  },
  {
   "cell_type": "markdown",
   "metadata": {},
   "source": [
    "## P-AUC Table"
   ]
  },
  {
   "cell_type": "code",
   "execution_count": 335,
   "metadata": {},
   "outputs": [],
   "source": [
    "table = pd.DataFrame({'Algorithm':['RF','LR','GB'], 'P, TRD':[rf_p_trd, lr_p_trd, gb_p_trd], 'P, TED':[rf_p_ted, lr_p_ted, gb_p_ted],\n",
    "                      'AUC, TRD':[rf_auc_trd, lr_auc_trd, gb_auc_trd], 'AUC, TED':[rf_auc_ted, lr_auc_ted, gb_auc_ted]})"
   ]
  },
  {
   "cell_type": "code",
   "execution_count": 336,
   "metadata": {},
   "outputs": [
    {
     "data": {
      "text/html": [
       "<div>\n",
       "<style scoped>\n",
       "    .dataframe tbody tr th:only-of-type {\n",
       "        vertical-align: middle;\n",
       "    }\n",
       "\n",
       "    .dataframe tbody tr th {\n",
       "        vertical-align: top;\n",
       "    }\n",
       "\n",
       "    .dataframe thead th {\n",
       "        text-align: right;\n",
       "    }\n",
       "</style>\n",
       "<table border=\"1\" class=\"dataframe\">\n",
       "  <thead>\n",
       "    <tr style=\"text-align: right;\">\n",
       "      <th></th>\n",
       "      <th>Algorithm</th>\n",
       "      <th>P, TRD</th>\n",
       "      <th>P, TED</th>\n",
       "      <th>AUC, TRD</th>\n",
       "      <th>AUC, TED</th>\n",
       "    </tr>\n",
       "  </thead>\n",
       "  <tbody>\n",
       "    <tr>\n",
       "      <th>0</th>\n",
       "      <td>RF</td>\n",
       "      <td>82.92 %</td>\n",
       "      <td>82.54 %</td>\n",
       "      <td>83.34 %</td>\n",
       "      <td>82.95 %</td>\n",
       "    </tr>\n",
       "    <tr>\n",
       "      <th>1</th>\n",
       "      <td>LR</td>\n",
       "      <td>83.10 %</td>\n",
       "      <td>82.80 %</td>\n",
       "      <td>83.29 %</td>\n",
       "      <td>83.01 %</td>\n",
       "    </tr>\n",
       "    <tr>\n",
       "      <th>2</th>\n",
       "      <td>GB</td>\n",
       "      <td>82.87 %</td>\n",
       "      <td>82.50 %</td>\n",
       "      <td>83.30 %</td>\n",
       "      <td>82.94 %</td>\n",
       "    </tr>\n",
       "  </tbody>\n",
       "</table>\n",
       "</div>"
      ],
      "text/plain": [
       "  Algorithm   P, TRD   P, TED AUC, TRD AUC, TED\n",
       "0        RF  82.92 %  82.54 %  83.34 %  82.95 %\n",
       "1        LR  83.10 %  82.80 %  83.29 %  83.01 %\n",
       "2        GB  82.87 %  82.50 %  83.30 %  82.94 %"
      ]
     },
     "execution_count": 336,
     "metadata": {},
     "output_type": "execute_result"
    }
   ],
   "source": [
    "table"
   ]
  }
 ],
 "metadata": {
  "kernelspec": {
   "display_name": "tf",
   "language": "python",
   "name": "tf"
  },
  "language_info": {
   "codemirror_mode": {
    "name": "ipython",
    "version": 3
   },
   "file_extension": ".py",
   "mimetype": "text/x-python",
   "name": "python",
   "nbconvert_exporter": "python",
   "pygments_lexer": "ipython3",
   "version": "3.10.4"
  }
 },
 "nbformat": 4,
 "nbformat_minor": 4
}
